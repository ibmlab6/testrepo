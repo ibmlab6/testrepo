{
    "cells": [
        {
            "cell_type": "code",
            "execution_count": null,
            "metadata": {},
            "outputs": [],
            "source": "# Import required libraries\nimport pandas as pd\nimport dash\nimport dash_html_components as html\nimport dash_core_components as dcc\nfrom dash.dependencies import Input, Output\nimport plotly.express as px\n\n# Read the airline data into pandas dataframe\nspacex_df = pd.read_csv(\"spacex_launch_dash.csv\")\nmax_payload = spacex_df['Payload Mass (kg)'].max()\nmin_payload = spacex_df['Payload Mass (kg)'].min()\n\n# Create a dash application\napp = dash.Dash(__name__)\n\n# Create an app layout\napp.layout = html.Div(children=[html.H1('SpaceX Launch Records Dashboard',\n                                        style={'textAlign': 'center', 'color': '#503D36',\n                                               'font-size': 40}),\n                                # TASK 1: Add a dropdown list to enable Launch Site selection\n                                # The default select value is for ALL sites\n                                # dcc.Dropdown(id='site-dropdown',...)\n                                dcc.Dropdown(id='site-dropdown',\n                                            options = [{'label': 'All Sites', 'value': 'ALL'},\n                                                      {'label': 'CCAFS LC-40', 'value': 'CCAFS LC-40'},\n                                                      {'label': 'VAFB SLC-4E', 'value': 'VAFB SLC-4E'},\n                                                      {'label': 'KSC LC-39A', 'value': 'KSC LC-39A'},\n                                                      {'label': 'CCAFS SLC-40', 'value': 'CCAFS SLC-40'}],\n                                            value = 'ALL',\n                                            placeholder = 'Select a Launch Site here',\n                                            searchable = True),\n                               \n                                html.Br(),\n\n                                # TASK 2: Add a pie chart to show the total successful launches count for all sites\n                                # If a specific launch site was selected, show the Success vs. Failed counts for the site\n                                html.Div(dcc.Graph(id='success-pie-chart')),\n                                html.Br(),\n\n                                html.P(\"Payload range (Kg):\"),\n                                # TASK 3: Add a slider to select payload range\n                                #dcc.RangeSlider(id='payload-slider',...)\n                                dcc.RangeSlider(id='payload-slider',\n\t\t\t\t\t                           marks={0: '0',2500:'2500',5000:'5000',7500:'7500', 10000: '10000'},\n                                               min=0,\n                                               max=10000,\n                                               step=1000,\n                                               value=[min_payload,max_payload]),\n                                # TASK 4: Add a scatter chart to show the correlation between payload and launch success\n                                html.Div(dcc.Graph(id='success-payload-scatter-chart')),\n                                ])\n\n# TASK 2:\n# Add a callback function for `site-dropdown` as input, `success-pie-chart` as output\n@app.callback(\n    Output(component_id='success-pie-chart', component_property='figure'),\n    Input(component_id='site-dropdown', component_property='value')\n)\ndef generate_piechart(site):\n    if site == 'ALL':\n        fig = px.pie(spacex_df, values='class', names='Launch Site', title=f\"Total Success Launches for site {site}\")\n\n    else:\n        df_2 = spacex_df[spacex_df['Launch Site']==site]  #filtered dataframe\n        df3 = df_2.groupby(['Launch Site','class']).size().reset_index(name='class count')\n        fig = px.pie(df3, values='class count', names='class', title='Total Success Launches for site '+site)\n    return fig\n\n# TASK 4:\n# Add a callback function for `site-dropdown` and `payload-slider` as inputs, `success-payload-scatter-chart` as output\n@app.callback(\n    Output(component_id='success-payload-scatter-chart', component_property='figure'),\n    [Input(component_id='site-dropdown', component_property='value'), \n    Input(component_id='payload-slider', component_property='value')]\n)\ndef generate_scatter(site,payload):\n    low, high = payload\n    mask = spacex_df[spacex_df['Payload Mass (kg)'].between(low,high)]\n    if site == 'ALL':\n        fig = px.scatter(mask, \n                        x='Payload Mass (kg)', \n                        y='class', \n                        color=\"Booster Version Category\", \n                        title='Payload vs. Outcome for All Sites')\n   \n        return fig\n    else:\n        mask_filtered = mask[mask['Launch Site'] == site]\n        fig = px.scatter(mask_filtered, \n                        x='Payload Mass (kg)', \n                        y='class', \n                        color=\"Booster Version Category\", \n                        title='Payload vs. Outcome for ' + site)\n        return fig\n\n\n# Run the app\nif __name__ == '__main__':\n    app.run_server()\n    #app.run_server(debug=True, use_reloader=False, port=8051)\n"
        }
    ],
    "metadata": {
        "kernelspec": {
            "display_name": "Python 3.8",
            "language": "python",
            "name": "python3"
        },
        "language_info": {
            "codemirror_mode": {
                "name": "ipython",
                "version": 3
            },
            "file_extension": ".py",
            "mimetype": "text/x-python",
            "name": "python",
            "nbconvert_exporter": "python",
            "pygments_lexer": "ipython3",
            "version": "3.8.11"
        }
    },
    "nbformat": 4,
    "nbformat_minor": 1
}